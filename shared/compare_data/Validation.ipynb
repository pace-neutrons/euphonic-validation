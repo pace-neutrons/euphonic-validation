{
 "cells": [
  {
   "cell_type": "code",
   "execution_count": 10,
   "metadata": {},
   "outputs": [],
   "source": [
    "# Ignore errors resulting from matplotlib's fig.show(). This causes\n",
    "# a warning when run from a notebook, but is still required if the\n",
    "# scripts are run from the CL\n",
    "import warnings\n",
    "warnings.simplefilter(\"ignore\", UserWarning)"
   ]
  },
  {
   "cell_type": "markdown",
   "metadata": {},
   "source": [
    "#### Comparison Scripts\n",
    "\n",
    "The `compare_sf` script can read structure factors from both Euphonic `StructureFactor` objects in a `.json` file, and Ab2tds structure factors written to a `alongthelineF.dat` file, and calculates the mean, min and max absolute/relative errors. It also applies a scaling factor, and sums the structure factors over degenerate modes. See the script for details on how it does this.\n",
    "\n",
    "The `compare_sqw` script can read S(Q,w) from both Euphonic `Spectrum2D` objects in a `.json` file, and OClimax S(Q,w) written to a `.csv` file. It also calculates the mean, min and max absolute/relative errors, after applying a scaling factor. See the script for details.\n",
    "\n",
    "These scripts can be run for all the cuts for different materials to give an idea of how well they compare to experimental data."
   ]
  },
  {
   "cell_type": "markdown",
   "metadata": {},
   "source": [
    "### Structure Factor Comparison\n",
    "\n",
    "#### Comparing with eigenvalues/vectors read from .phonon\n",
    "\n",
    "Lets start with comparing the Ab2tds structure factors with Euphonic's structure factors that have been calculated with frequencies/eigenvectors read from a `.phonon` file:"
   ]
  },
  {
   "cell_type": "code",
   "execution_count": 2,
   "metadata": {},
   "outputs": [
    {
     "name": "stdout",
     "output_type": "stream",
     "text": [
      "\n",
      "Results for ../../quartz/2ph_m4_0_qe/euphonic/sf_phonons_100K.json ../../quartz/2ph_m4_0_qe/ab2tds/alongthelineF_100K.dat\n",
      "Absolute Error - mean: 4.6726310138278893e-08 max: 8.771275944425769e-05 min: 1.5503279671338899e-18\n",
      "Relative Error - mean: 0.0024341073499717556 max: 0.03879472322547094 min: 5.177800648450457e-08\n",
      "\n",
      "Results for ../../quartz/30L_qe/euphonic/sf_phonons_100K.json ../../quartz/30L_qe/ab2tds/alongthelineF_100K.dat\n",
      "Absolute Error - mean: 3.2506643807483944e-10 max: 4.575939232826648e-07 min: 1.2786292156330635e-17\n",
      "Relative Error - mean: 0.0011989250980394372 max: 0.02014565391144346 min: 4.2267131782193544e-07\n",
      "\n",
      "Results for ../../lzo/kagome_300K_qe/euphonic/sf_phonons_300K.json ../../lzo/kagome_300K_qe/ab2tds/alongthelineF_300K.dat\n",
      "Absolute Error - mean: 2.6061351104422008e-06 max: 0.0020175869410402614 min: 3.8914142380054763e-16\n",
      "Relative Error - mean: 0.016305304544738157 max: 0.9587154539402496 min: 2.389378872732815e-05\n",
      "\n",
      "Results for ../../lzo/hh2_qe/euphonic/sf_phonons_300K.json ../../lzo/hh2_qe/ab2tds/alongthelineF_300K.dat\n",
      "Absolute Error - mean: 4.919953490922618e-06 max: 0.009878016560936898 min: 9.267751552993567e-17\n",
      "Relative Error - mean: 0.006529701155304538 max: 0.2511276291737483 min: 1.2329646002209128e-05\n"
     ]
    }
   ],
   "source": [
    "from compare_sf import main as compare_sf_main\n",
    "from compare_sqw import main as compare_sqw_main\n",
    "\n",
    "quartz_cuts = ['2ph_m4_0_qe', '30L_qe']\n",
    "for cut in quartz_cuts:\n",
    "    compare_sf_main(['--sf1', '../../quartz/' + cut + '/euphonic/sf_phonons_100K.json',\n",
    "                     '--sf2', '../../quartz/' + cut + '/ab2tds/alongthelineF_100K.dat'])\n",
    "\n",
    "lzo_cuts = ['kagome_qe', 'hh2_qe']\n",
    "for cut in lzo_cuts:\n",
    "    compare_sf_main(['--sf1', '../../lzo/' + cut + '/euphonic/sf_phonons_300K.json',\n",
    "                     '--sf2', '../../lzo/' + cut + '/ab2tds/alongthelineF_300K.dat'])\n"
   ]
  },
  {
   "cell_type": "markdown",
   "metadata": {},
   "source": [
    "The errors for the Quartz cuts are very small - showing mean relative errors of 0.2% and 0.1%, with maximum errors of only 4% and 2%, which is satisfactory.\n",
    "\n",
    "However, the errors for LZO seem much higher - one mean error is 1.6% and maximum errors are 95% and 25%. Lets investigate the `kagome_300K_qe` cut further, first by running with both Euphonic and Ab2tds at a lower temperature - 100K instead of 300K:"
   ]
  },
  {
   "cell_type": "code",
   "execution_count": 12,
   "metadata": {},
   "outputs": [
    {
     "name": "stdout",
     "output_type": "stream",
     "text": [
      "\n",
      "Results for ../../lzo/kagome_qe/euphonic/sf_phonons_100K.json ../../lzo/kagome_qe/ab2tds/alongthelineF_100K.dat\n",
      "Absolute Error - mean: 4.2808383788196183e-07 max: 0.00032312899714653787 min: 5.826038737109541e-17\n",
      "Relative Error - mean: 0.005977585584588909 max: 1.3488109129264791 min: 3.7099340476906613e-07\n"
     ]
    }
   ],
   "source": [
    "cut = 'kagome_qe'\n",
    "compare_sf_main(['--sf1', '../../lzo/' + cut + '/euphonic/sf_phonons_100K.json',\n",
    "                 '--sf2', '../../lzo/' + cut + '/ab2tds/alongthelineF_100K.dat'])"
   ]
  },
  {
   "cell_type": "markdown",
   "metadata": {},
   "source": [
    "This reduces the mean error to 0.5% - so the temperature does have an effect (although the maximum relative error is actually higher!). The difference then is likely to be down to the Debye-Waller factor (Ab2tds doesn't calculate the Bose population factor). When calculating the Debye-Waller factor Ab2tds does some symmetry operations to unfold the input grid q-points to the whole BZ - this could be a source of discrepancy.\n",
    "\n",
    "But the overall relative errors might be giving a pessimistic picture of the comparison. Looking at the 300K `kagome_qe` data again, we can figure out which q-point is causing the largest relative error and take a closer look."
   ]
  },
  {
   "cell_type": "code",
   "execution_count": 15,
   "metadata": {},
   "outputs": [],
   "source": [
    "import numpy as np\n",
    "from compare_sf import get_sf, get_degenerate_modes, calc_sf_sum\n",
    "from util import get_scaling\n",
    "\n",
    "eusf, eufr, euq = get_sf('../../lzo/kagome_qe/euphonic/sf_phonons_300K.json')\n",
    "absf, abfr, abq = get_sf('../../lzo/kagome_qe/ab2tds/alongthelineF_300K.dat')\n",
    "\n",
    "# We need to sum over degenerate phonon modes and scale the results to get a good comparison\n",
    "dg_modes = get_degenerate_modes(eufr)\n",
    "eusf_sum = calc_sf_sum(dg_modes, eusf)\n",
    "absf_sum = calc_sf_sum(dg_modes, absf)\n",
    "scale = get_scaling(eusf_sum, absf_sum)"
   ]
  },
  {
   "cell_type": "code",
   "execution_count": null,
   "metadata": {},
   "outputs": [],
   "source": []
  }
 ],
 "metadata": {
  "kernelspec": {
   "display_name": "Python 3",
   "language": "python",
   "name": "python3"
  },
  "language_info": {
   "codemirror_mode": {
    "name": "ipython",
    "version": 3
   },
   "file_extension": ".py",
   "mimetype": "text/x-python",
   "name": "python",
   "nbconvert_exporter": "python",
   "pygments_lexer": "ipython3",
   "version": "3.7.7"
  }
 },
 "nbformat": 4,
 "nbformat_minor": 4
}
